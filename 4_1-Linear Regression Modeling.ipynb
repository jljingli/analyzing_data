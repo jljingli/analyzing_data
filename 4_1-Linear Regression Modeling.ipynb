{
 "cells": [
  {
   "cell_type": "markdown",
   "metadata": {
    "tags": []
   },
   "source": [
    "# Assignment 4\n",
    "\n",
    "This assignment will test your understanding and knowledge of the following notions:\n",
    "\n",
    "- correlation and correlation coefficient\n",
    "- linear regression\n",
    "- dependent and independent variable\n",
    "- predictor and response\n",
    "\n",
    "You will be working with the `winequality-red.csv` dataset. The dataset is structured in the same way as the one we have used in the lab, but it is about red wines. Note: fields are separated using a semincolomn (`;`) not a comma.\n",
    "\n",
    "**Your Tasks**\n",
    "\n",
    "- Inspect the dataset. For each variables - excluding `quality` plot their distribution (i.e., make a histograms)\n",
    "- Find what are unique values in the `quality` column.\n",
    "- Besides the fact that you may be a wine expert or not, select two variables that you think that may be good predictors for the `quality`. Your selection can be random, grounded in some research (e.g., https://www.sciencedirect.com/topics/food-science/wine-quality - use your RUG mail if you have problem accessing the papers), or based on [which other statistical analysis tool we have seen that can be used to decide which variable to use as a predictor?]\n",
    "- For each predictor, plot the correlation with respect to the `quality` variable.\n",
    "- Split your dataset in train and test using the `train_test_split()` function.\n",
    "- Run your linear regression experiments (one per predictor variable you have selected) and save the models.\n",
    "- Evaluate your model against the test set data using `mean_squared_error()`.\n",
    "\n",
    "Requirement:\n",
    "\n",
    "- rename this notebook with your s-number\n",
    "- upload the jupyter notebook\n",
    "- upload the saved models (in a zipped folder)\n",
    "- upload your report in a separate file (if written)\n",
    "\n",
    "Each document file should be uploaded as a separate document."
   ]
  },
  {
   "cell_type": "code",
   "execution_count": 42,
   "metadata": {},
   "outputs": [],
   "source": [
    "# Import necessary libraries\n",
    "import pandas as pd\n",
    "import numpy as np\n",
    "from sklearn.model_selection import KFold,cross_val_score,train_test_split,cross_val_predict\n",
    "from sklearn.linear_model import LinearRegression\n",
    "from sklearn.metrics import mean_squared_error\n",
    "import pickle\n",
    "\n",
    "# Import visualization libraries\n",
    "import seaborn as sns\n",
    "import matplotlib.pyplot as plt"
   ]
  },
  {
   "cell_type": "code",
   "execution_count": 43,
   "metadata": {},
   "outputs": [],
   "source": [
    "df = pd.read_csv('winequality-red.csv',sep = ';')"
   ]
  },
  {
   "cell_type": "code",
   "execution_count": 44,
   "metadata": {
    "scrolled": true
   },
   "outputs": [
    {
     "data": {
      "text/html": [
       "<div>\n",
       "<style scoped>\n",
       "    .dataframe tbody tr th:only-of-type {\n",
       "        vertical-align: middle;\n",
       "    }\n",
       "\n",
       "    .dataframe tbody tr th {\n",
       "        vertical-align: top;\n",
       "    }\n",
       "\n",
       "    .dataframe thead th {\n",
       "        text-align: right;\n",
       "    }\n",
       "</style>\n",
       "<table border=\"1\" class=\"dataframe\">\n",
       "  <thead>\n",
       "    <tr style=\"text-align: right;\">\n",
       "      <th></th>\n",
       "      <th>fixed acidity</th>\n",
       "      <th>volatile acidity</th>\n",
       "      <th>citric acid</th>\n",
       "      <th>residual sugar</th>\n",
       "      <th>chlorides</th>\n",
       "      <th>free sulfur dioxide</th>\n",
       "      <th>total sulfur dioxide</th>\n",
       "      <th>density</th>\n",
       "      <th>pH</th>\n",
       "      <th>sulphates</th>\n",
       "      <th>alcohol</th>\n",
       "      <th>quality</th>\n",
       "    </tr>\n",
       "  </thead>\n",
       "  <tbody>\n",
       "    <tr>\n",
       "      <th>0</th>\n",
       "      <td>7.4</td>\n",
       "      <td>0.700</td>\n",
       "      <td>0.00</td>\n",
       "      <td>1.9</td>\n",
       "      <td>0.076</td>\n",
       "      <td>11.0</td>\n",
       "      <td>34.0</td>\n",
       "      <td>0.99780</td>\n",
       "      <td>3.51</td>\n",
       "      <td>0.56</td>\n",
       "      <td>9.4</td>\n",
       "      <td>5</td>\n",
       "    </tr>\n",
       "    <tr>\n",
       "      <th>1</th>\n",
       "      <td>7.8</td>\n",
       "      <td>0.880</td>\n",
       "      <td>0.00</td>\n",
       "      <td>2.6</td>\n",
       "      <td>0.098</td>\n",
       "      <td>25.0</td>\n",
       "      <td>67.0</td>\n",
       "      <td>0.99680</td>\n",
       "      <td>3.20</td>\n",
       "      <td>0.68</td>\n",
       "      <td>9.8</td>\n",
       "      <td>5</td>\n",
       "    </tr>\n",
       "    <tr>\n",
       "      <th>2</th>\n",
       "      <td>7.8</td>\n",
       "      <td>0.760</td>\n",
       "      <td>0.04</td>\n",
       "      <td>2.3</td>\n",
       "      <td>0.092</td>\n",
       "      <td>15.0</td>\n",
       "      <td>54.0</td>\n",
       "      <td>0.99700</td>\n",
       "      <td>3.26</td>\n",
       "      <td>0.65</td>\n",
       "      <td>9.8</td>\n",
       "      <td>5</td>\n",
       "    </tr>\n",
       "    <tr>\n",
       "      <th>3</th>\n",
       "      <td>11.2</td>\n",
       "      <td>0.280</td>\n",
       "      <td>0.56</td>\n",
       "      <td>1.9</td>\n",
       "      <td>0.075</td>\n",
       "      <td>17.0</td>\n",
       "      <td>60.0</td>\n",
       "      <td>0.99800</td>\n",
       "      <td>3.16</td>\n",
       "      <td>0.58</td>\n",
       "      <td>9.8</td>\n",
       "      <td>6</td>\n",
       "    </tr>\n",
       "    <tr>\n",
       "      <th>4</th>\n",
       "      <td>7.4</td>\n",
       "      <td>0.700</td>\n",
       "      <td>0.00</td>\n",
       "      <td>1.9</td>\n",
       "      <td>0.076</td>\n",
       "      <td>11.0</td>\n",
       "      <td>34.0</td>\n",
       "      <td>0.99780</td>\n",
       "      <td>3.51</td>\n",
       "      <td>0.56</td>\n",
       "      <td>9.4</td>\n",
       "      <td>5</td>\n",
       "    </tr>\n",
       "    <tr>\n",
       "      <th>...</th>\n",
       "      <td>...</td>\n",
       "      <td>...</td>\n",
       "      <td>...</td>\n",
       "      <td>...</td>\n",
       "      <td>...</td>\n",
       "      <td>...</td>\n",
       "      <td>...</td>\n",
       "      <td>...</td>\n",
       "      <td>...</td>\n",
       "      <td>...</td>\n",
       "      <td>...</td>\n",
       "      <td>...</td>\n",
       "    </tr>\n",
       "    <tr>\n",
       "      <th>1594</th>\n",
       "      <td>6.2</td>\n",
       "      <td>0.600</td>\n",
       "      <td>0.08</td>\n",
       "      <td>2.0</td>\n",
       "      <td>0.090</td>\n",
       "      <td>32.0</td>\n",
       "      <td>44.0</td>\n",
       "      <td>0.99490</td>\n",
       "      <td>3.45</td>\n",
       "      <td>0.58</td>\n",
       "      <td>10.5</td>\n",
       "      <td>5</td>\n",
       "    </tr>\n",
       "    <tr>\n",
       "      <th>1595</th>\n",
       "      <td>5.9</td>\n",
       "      <td>0.550</td>\n",
       "      <td>0.10</td>\n",
       "      <td>2.2</td>\n",
       "      <td>0.062</td>\n",
       "      <td>39.0</td>\n",
       "      <td>51.0</td>\n",
       "      <td>0.99512</td>\n",
       "      <td>3.52</td>\n",
       "      <td>0.76</td>\n",
       "      <td>11.2</td>\n",
       "      <td>6</td>\n",
       "    </tr>\n",
       "    <tr>\n",
       "      <th>1596</th>\n",
       "      <td>6.3</td>\n",
       "      <td>0.510</td>\n",
       "      <td>0.13</td>\n",
       "      <td>2.3</td>\n",
       "      <td>0.076</td>\n",
       "      <td>29.0</td>\n",
       "      <td>40.0</td>\n",
       "      <td>0.99574</td>\n",
       "      <td>3.42</td>\n",
       "      <td>0.75</td>\n",
       "      <td>11.0</td>\n",
       "      <td>6</td>\n",
       "    </tr>\n",
       "    <tr>\n",
       "      <th>1597</th>\n",
       "      <td>5.9</td>\n",
       "      <td>0.645</td>\n",
       "      <td>0.12</td>\n",
       "      <td>2.0</td>\n",
       "      <td>0.075</td>\n",
       "      <td>32.0</td>\n",
       "      <td>44.0</td>\n",
       "      <td>0.99547</td>\n",
       "      <td>3.57</td>\n",
       "      <td>0.71</td>\n",
       "      <td>10.2</td>\n",
       "      <td>5</td>\n",
       "    </tr>\n",
       "    <tr>\n",
       "      <th>1598</th>\n",
       "      <td>6.0</td>\n",
       "      <td>0.310</td>\n",
       "      <td>0.47</td>\n",
       "      <td>3.6</td>\n",
       "      <td>0.067</td>\n",
       "      <td>18.0</td>\n",
       "      <td>42.0</td>\n",
       "      <td>0.99549</td>\n",
       "      <td>3.39</td>\n",
       "      <td>0.66</td>\n",
       "      <td>11.0</td>\n",
       "      <td>6</td>\n",
       "    </tr>\n",
       "  </tbody>\n",
       "</table>\n",
       "<p>1599 rows × 12 columns</p>\n",
       "</div>"
      ],
      "text/plain": [
       "      fixed acidity  volatile acidity  citric acid  residual sugar  chlorides  \\\n",
       "0               7.4             0.700         0.00             1.9      0.076   \n",
       "1               7.8             0.880         0.00             2.6      0.098   \n",
       "2               7.8             0.760         0.04             2.3      0.092   \n",
       "3              11.2             0.280         0.56             1.9      0.075   \n",
       "4               7.4             0.700         0.00             1.9      0.076   \n",
       "...             ...               ...          ...             ...        ...   \n",
       "1594            6.2             0.600         0.08             2.0      0.090   \n",
       "1595            5.9             0.550         0.10             2.2      0.062   \n",
       "1596            6.3             0.510         0.13             2.3      0.076   \n",
       "1597            5.9             0.645         0.12             2.0      0.075   \n",
       "1598            6.0             0.310         0.47             3.6      0.067   \n",
       "\n",
       "      free sulfur dioxide  total sulfur dioxide  density    pH  sulphates  \\\n",
       "0                    11.0                  34.0  0.99780  3.51       0.56   \n",
       "1                    25.0                  67.0  0.99680  3.20       0.68   \n",
       "2                    15.0                  54.0  0.99700  3.26       0.65   \n",
       "3                    17.0                  60.0  0.99800  3.16       0.58   \n",
       "4                    11.0                  34.0  0.99780  3.51       0.56   \n",
       "...                   ...                   ...      ...   ...        ...   \n",
       "1594                 32.0                  44.0  0.99490  3.45       0.58   \n",
       "1595                 39.0                  51.0  0.99512  3.52       0.76   \n",
       "1596                 29.0                  40.0  0.99574  3.42       0.75   \n",
       "1597                 32.0                  44.0  0.99547  3.57       0.71   \n",
       "1598                 18.0                  42.0  0.99549  3.39       0.66   \n",
       "\n",
       "      alcohol  quality  \n",
       "0         9.4        5  \n",
       "1         9.8        5  \n",
       "2         9.8        5  \n",
       "3         9.8        6  \n",
       "4         9.4        5  \n",
       "...       ...      ...  \n",
       "1594     10.5        5  \n",
       "1595     11.2        6  \n",
       "1596     11.0        6  \n",
       "1597     10.2        5  \n",
       "1598     11.0        6  \n",
       "\n",
       "[1599 rows x 12 columns]"
      ]
     },
     "execution_count": 44,
     "metadata": {},
     "output_type": "execute_result"
    }
   ],
   "source": [
    "df"
   ]
  },
  {
   "cell_type": "markdown",
   "metadata": {},
   "source": [
    "#### 1) For each variables - excluding quality plot their distribution."
   ]
  },
  {
   "cell_type": "code",
   "execution_count": 45,
   "metadata": {
    "scrolled": true
   },
   "outputs": [
    {
     "data": {
      "text/plain": [
       "Index(['fixed acidity', 'volatile acidity', 'citric acid', 'residual sugar',\n",
       "       'chlorides', 'free sulfur dioxide', 'total sulfur dioxide', 'density',\n",
       "       'pH', 'sulphates', 'alcohol', 'quality'],\n",
       "      dtype='object')"
      ]
     },
     "execution_count": 45,
     "metadata": {},
     "output_type": "execute_result"
    }
   ],
   "source": [
    "df.columns"
   ]
  },
  {
   "cell_type": "code",
   "execution_count": 46,
   "metadata": {},
   "outputs": [
    {
     "data": {
      "text/plain": [
       "array([[<AxesSubplot:title={'center':'fixed acidity'}>,\n",
       "        <AxesSubplot:title={'center':'volatile acidity'}>,\n",
       "        <AxesSubplot:title={'center':'citric acid'}>],\n",
       "       [<AxesSubplot:title={'center':'residual sugar'}>,\n",
       "        <AxesSubplot:title={'center':'chlorides'}>,\n",
       "        <AxesSubplot:title={'center':'free sulfur dioxide'}>],\n",
       "       [<AxesSubplot:title={'center':'total sulfur dioxide'}>,\n",
       "        <AxesSubplot:title={'center':'density'}>,\n",
       "        <AxesSubplot:title={'center':'pH'}>],\n",
       "       [<AxesSubplot:title={'center':'sulphates'}>,\n",
       "        <AxesSubplot:title={'center':'alcohol'}>, <AxesSubplot:>]],\n",
       "      dtype=object)"
      ]
     },
     "execution_count": 46,
     "metadata": {},
     "output_type": "execute_result"
    },
    {
     "data": {
      "image/png": "[encoded data removed]",
      "text/plain": [
       "<Figure size 432x288 with 12 Axes>"
      ]
     },
     "metadata": {
      "needs_background": "light"
     },
     "output_type": "display_data"
    }
   ],
   "source": [
    "# excluding 'quality' and plot histograms for each column\n",
    "\n",
    "df_distrib = df.drop('quality',axis=1)\n",
    "df_distrib.hist()"
   ]
  },
  {
   "cell_type": "markdown",
   "metadata": {},
   "source": [
    "#### 2) Find what are unique values in the quality column."
   ]
  },
  {
   "cell_type": "code",
   "execution_count": 47,
   "metadata": {},
   "outputs": [
    {
     "name": "stdout",
     "output_type": "stream",
     "text": [
      "[5 6 7 4 8 3]\n"
     ]
    }
   ],
   "source": [
    "# Get the unique values in the \"quality\" column\n",
    "unique_values = df['quality'].unique()\n",
    "\n",
    "# Print the unique values\n",
    "print(unique_values)"
   ]
  },
  {
   "cell_type": "markdown",
   "metadata": {},
   "source": [
    "#### 3) Select two variables that you think that may be good predictors for the quality."
   ]
  },
  {
   "cell_type": "markdown",
   "metadata": {},
   "source": [
    "I choose \"fixed acidity\" and \"pH\" as the predictors"
   ]
  },
  {
   "cell_type": "markdown",
   "metadata": {},
   "source": [
    "#### 4) For each predictor, plot the correlation with respect to the quality variable."
   ]
  },
  {
   "cell_type": "code",
   "execution_count": 48,
   "metadata": {},
   "outputs": [
    {
     "data": {
      "image/png": "[encoded data removed]",
      "text/plain": [
       "<Figure size 432x288 with 1 Axes>"
      ]
     },
     "metadata": {
      "needs_background": "light"
     },
     "output_type": "display_data"
    },
    {
     "data": {
      "image/png": "[encoded data removed]",
      "text/plain": [
       "<Figure size 432x288 with 1 Axes>"
      ]
     },
     "metadata": {
      "needs_background": "light"
     },
     "output_type": "display_data"
    }
   ],
   "source": [
    "# Define the predictor variables\n",
    "predictors = ['fixed acidity', 'pH']\n",
    "\n",
    "# Plot the correlation between each predictor and quality, add a correlation line\n",
    "for pred in predictors:\n",
    "    sns.regplot(x=pred, y='quality', data=df)\n",
    "    plt.title(f'Correlation between {pred} and quality')\n",
    "    plt.xlabel(pred)\n",
    "    plt.ylabel('quality')\n",
    "    plt.show()"
   ]
  },
  {
   "cell_type": "markdown",
   "metadata": {},
   "source": [
    "#### 5) Split your dataset in train and test using the train_test_split() function."
   ]
  },
  {
   "cell_type": "markdown",
   "metadata": {},
   "source": [
    "#### FIXED ACIDITY"
   ]
  },
  {
   "cell_type": "code",
   "execution_count": 51,
   "metadata": {
    "scrolled": true
   },
   "outputs": [],
   "source": [
    "# Create a subset with fixed acidity and quality columns\n",
    "df_fa = df[['fixed acidity', 'quality']]\n",
    "\n",
    "# Select the predictor and response variables\n",
    "predictor_fa = df_fa[['fixed acidity']]\n",
    "response_fa = df_fa[['quality']]"
   ]
  },
  {
   "cell_type": "code",
   "execution_count": 52,
   "metadata": {},
   "outputs": [],
   "source": [
    "# Split the data into training and testing sets\n",
    "# set the parameter 'test_size' to 40, 40% of the data will be used for testing\n",
    "# set the parameter 'random_state' to 101 for reproducibility \n",
    "\n",
    "X_train_fa, X_test_fa, y_train_fa, y_test_fa = train_test_split(predictor_fa, response_fa, test_size=0.4, random_state=101)"
   ]
  },
  {
   "cell_type": "markdown",
   "metadata": {},
   "source": [
    "#### 6) Run your linear regression experiments (one per predictor variable you have selected) and save the models."
   ]
  },
  {
   "cell_type": "code",
   "execution_count": 53,
   "metadata": {},
   "outputs": [
    {
     "name": "stdout",
     "output_type": "stream",
     "text": [
      "[-0.67957778 -0.63218546 -0.44497551 -0.46136327 -0.69921375 -0.50579194\n",
      " -0.65655765 -0.66006974 -0.59769336 -0.77918619]\n",
      "-0.6116614660668673\n"
     ]
    }
   ],
   "source": [
    "# Instantiate the Linear Regressor \n",
    "linreg_fa = LinearRegression()\n",
    "\n",
    "# Select the predictor variable for training\n",
    "predictor_fa_train = X_train_fa[['fixed acidity']]\n",
    "\n",
    "# Select the response variable for training\n",
    "response_fa_train = y_train_fa[['quality']]\n",
    "\n",
    "# Define the KFold for cross validation. \n",
    "# specifies the number of folds, which is set to 10\n",
    "\n",
    "folds_fa = KFold(n_splits=10, shuffle=True, random_state=100)\n",
    "\n",
    "# Train and test the model, the mean squared error used as the evaluation metric\n",
    "\n",
    "scores_fa = cross_val_score(linreg_fa, \n",
    "                         predictor_fa_train, \n",
    "                         response_fa_train, \n",
    "                         scoring='neg_mean_squared_error', \n",
    "                         cv=folds_fa)\n",
    "\n",
    "# Printing the Mean Squared Errors per fold (10 in total)\n",
    "print(scores_fa)\n",
    "\n",
    "# Print the mean of the Mean Squared Errors per fold \n",
    "print(scores_fa.mean())"
   ]
  },
  {
   "cell_type": "code",
   "execution_count": 54,
   "metadata": {},
   "outputs": [],
   "source": [
    "# Fit the model to the training data\n",
    "regressor_trained_fa = linreg_fa.fit(predictor_fa_train, response_fa_train)\n",
    "\n",
    "# Save the trained model to a file\n",
    "filename_fa = 'fa_model.sav'\n",
    "pickle.dump(regressor_trained_fa, open(filename_fa, 'wb'))"
   ]
  },
  {
   "cell_type": "code",
   "execution_count": 55,
   "metadata": {},
   "outputs": [],
   "source": [
    "# Save the predictor variable for testing\n",
    "predictor_test_fa = X_test_fa[['fixed acidity']]\n",
    "\n",
    "# Save the response variable for testing\n",
    "response_test_fa = y_test_fa[['quality']]\n",
    "\n",
    "# Using the trained model to make predictions\n",
    "pred_fa = regressor_trained_fa.predict(predictor_test_fa)"
   ]
  },
  {
   "cell_type": "code",
   "execution_count": 56,
   "metadata": {},
   "outputs": [
    {
     "name": "stdout",
     "output_type": "stream",
     "text": [
      "     prediction\n",
      "0      5.635924\n",
      "1      5.582730\n",
      "2      5.589379\n",
      "3      5.609327\n",
      "4      5.569431\n",
      "..          ...\n",
      "635    5.642573\n",
      "636    5.709066\n",
      "637    5.722365\n",
      "638    5.529535\n",
      "639    5.722365\n",
      "\n",
      "[640 rows x 1 columns]\n"
     ]
    }
   ],
   "source": [
    "# convert model predictions into a dataframe\n",
    "df_pred_fa = pd.DataFrame(data=pred_fa, columns=[\"prediction\"])\n",
    "print(df_pred_fa)"
   ]
  },
  {
   "cell_type": "code",
   "execution_count": 57,
   "metadata": {},
   "outputs": [
    {
     "data": {
      "text/html": [
       "<div>\n",
       "<style scoped>\n",
       "    .dataframe tbody tr th:only-of-type {\n",
       "        vertical-align: middle;\n",
       "    }\n",
       "\n",
       "    .dataframe tbody tr th {\n",
       "        vertical-align: top;\n",
       "    }\n",
       "\n",
       "    .dataframe thead th {\n",
       "        text-align: right;\n",
       "    }\n",
       "</style>\n",
       "<table border=\"1\" class=\"dataframe\">\n",
       "  <thead>\n",
       "    <tr style=\"text-align: right;\">\n",
       "      <th></th>\n",
       "      <th>prediction</th>\n",
       "      <th>quality</th>\n",
       "    </tr>\n",
       "  </thead>\n",
       "  <tbody>\n",
       "    <tr>\n",
       "      <th>0</th>\n",
       "      <td>5.635924</td>\n",
       "      <td>5</td>\n",
       "    </tr>\n",
       "    <tr>\n",
       "      <th>1</th>\n",
       "      <td>5.582730</td>\n",
       "      <td>5</td>\n",
       "    </tr>\n",
       "    <tr>\n",
       "      <th>2</th>\n",
       "      <td>5.589379</td>\n",
       "      <td>5</td>\n",
       "    </tr>\n",
       "    <tr>\n",
       "      <th>3</th>\n",
       "      <td>5.609327</td>\n",
       "      <td>6</td>\n",
       "    </tr>\n",
       "    <tr>\n",
       "      <th>4</th>\n",
       "      <td>5.569431</td>\n",
       "      <td>5</td>\n",
       "    </tr>\n",
       "    <tr>\n",
       "      <th>...</th>\n",
       "      <td>...</td>\n",
       "      <td>...</td>\n",
       "    </tr>\n",
       "    <tr>\n",
       "      <th>1594</th>\n",
       "      <td>NaN</td>\n",
       "      <td>5</td>\n",
       "    </tr>\n",
       "    <tr>\n",
       "      <th>1595</th>\n",
       "      <td>NaN</td>\n",
       "      <td>6</td>\n",
       "    </tr>\n",
       "    <tr>\n",
       "      <th>1596</th>\n",
       "      <td>NaN</td>\n",
       "      <td>6</td>\n",
       "    </tr>\n",
       "    <tr>\n",
       "      <th>1597</th>\n",
       "      <td>NaN</td>\n",
       "      <td>5</td>\n",
       "    </tr>\n",
       "    <tr>\n",
       "      <th>1598</th>\n",
       "      <td>NaN</td>\n",
       "      <td>6</td>\n",
       "    </tr>\n",
       "  </tbody>\n",
       "</table>\n",
       "<p>1599 rows × 2 columns</p>\n",
       "</div>"
      ],
      "text/plain": [
       "      prediction  quality\n",
       "0       5.635924        5\n",
       "1       5.582730        5\n",
       "2       5.589379        5\n",
       "3       5.609327        6\n",
       "4       5.569431        5\n",
       "...          ...      ...\n",
       "1594         NaN        5\n",
       "1595         NaN        6\n",
       "1596         NaN        6\n",
       "1597         NaN        5\n",
       "1598         NaN        6\n",
       "\n",
       "[1599 rows x 2 columns]"
      ]
     },
     "execution_count": 57,
     "metadata": {},
     "output_type": "execute_result"
    }
   ],
   "source": [
    "# concatenate the prediction and the gold data into the same dataframe\n",
    "pd.concat([df_pred_fa, response_fa], axis=1)"
   ]
  },
  {
   "cell_type": "markdown",
   "metadata": {},
   "source": [
    "#### 7) Evaluate your model against the test set data using mean_squared_error().  "
   ]
  },
  {
   "cell_type": "code",
   "execution_count": 58,
   "metadata": {},
   "outputs": [
    {
     "data": {
      "text/plain": [
       "0.6921105950313683"
      ]
     },
     "execution_count": 58,
     "metadata": {},
     "output_type": "execute_result"
    }
   ],
   "source": [
    "# Calculate the mean squared error between the predicted values for the fixed acidity model\n",
    "# print the actual mean_squared_error \n",
    "mean_squared_error(pred_fa,response_test_fa)"
   ]
  },
  {
   "cell_type": "markdown",
   "metadata": {},
   "source": [
    "### Do the same with the 'pH' predictor."
   ]
  },
  {
   "cell_type": "code",
   "execution_count": 59,
   "metadata": {},
   "outputs": [
    {
     "name": "stdout",
     "output_type": "stream",
     "text": [
      "     prediction\n",
      "0      5.575886\n",
      "1      5.653996\n",
      "2      5.600739\n",
      "3      5.742756\n",
      "4      5.643344\n",
      "..          ...\n",
      "635    5.611390\n",
      "636    5.693050\n",
      "637    5.675298\n",
      "638    5.710802\n",
      "639    5.639794\n",
      "\n",
      "[640 rows x 1 columns]\n"
     ]
    }
   ],
   "source": [
    "# Second model with pH as predictor\n",
    "# Create a subset with pH and quality columns and select the predictor and response variables\n",
    "\n",
    "df_ph = df[['pH', 'quality']]\n",
    "predictor_ph = df_ph[['pH']]\n",
    "response_ph = df_ph[['quality']]\n",
    "\n",
    "# Split the data into training and testing sets\n",
    "X_train_ph, X_test_ph, y_train_ph, y_test_ph = train_test_split(predictor_ph, response_ph, test_size=0.4, random_state=101)\n",
    "\n",
    "linreg_ph = LinearRegression()\n",
    "\n",
    "# Select the predictor variable and response variable for training\n",
    "predictor_ph_train = X_train_ph[['pH']]\n",
    "response_ph_train = y_train_ph[['quality']]\n",
    "\n",
    "# Define the KFold for cross validation\n",
    "folds_ph = KFold(n_splits=10, shuffle=True, random_state=100)\n",
    "\n",
    "# Train and test the model\n",
    "scores_ph = cross_val_score(linreg_ph, \n",
    "                         predictor_ph_train, \n",
    "                         response_ph_train, \n",
    "                         scoring='neg_mean_squared_error', \n",
    "                         cv=folds_ph)\n",
    "\n",
    "# Fit the model to the training data and save the trained model to a file\n",
    "regressor_trained_ph = linreg_ph.fit(predictor_ph_train, response_ph_train)\n",
    "\n",
    "filename_ph = 'ph_model.sav'\n",
    "pickle.dump(regressor_trained_ph, open(filename_ph, 'wb'))\n",
    "\n",
    "# # Save the predictor variable and the response variable for testing\n",
    "predictor_test_ph = X_test_ph[['pH']]\n",
    "response_test_ph = y_test_ph[['quality']]\n",
    "\n",
    "pred_ph = regressor_trained_ph.predict(predictor_test_ph)\n",
    "\n",
    "# convert model predictions into a dataframe\n",
    "df_pred_ph = pd.DataFrame(data=pred_ph, columns=[\"prediction\"])\n",
    "print(df_pred_ph)"
   ]
  },
  {
   "cell_type": "code",
   "execution_count": 60,
   "metadata": {},
   "outputs": [
    {
     "data": {
      "text/plain": [
       "0.6960340442684373"
      ]
     },
     "execution_count": 60,
     "metadata": {},
     "output_type": "execute_result"
    }
   ],
   "source": [
    "# Calculate the mean squared error between the predicted values for the pH model\n",
    "# print the actual mean_squared_error \n",
    "mean_squared_error(pred_ph,response_test_ph)"
   ]
  }
 ],
 "metadata": {
  "kernelspec": {
   "display_name": "Python 3 (ipykernel)",
   "language": "python",
   "name": "python3"
  },
  "language_info": {
   "codemirror_mode": {
    "name": "ipython",
    "version": 3
   },
   "file_extension": ".py",
   "mimetype": "text/x-python",
   "name": "python",
   "nbconvert_exporter": "python",
   "pygments_lexer": "ipython3",
   "version": "3.9.12"
  }
 },
 "nbformat": 4,
 "nbformat_minor": 4
}
