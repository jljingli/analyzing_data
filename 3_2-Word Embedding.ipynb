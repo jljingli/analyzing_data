{
 "cells": [
  {
   "cell_type": "markdown",
   "id": "7fd637a3",
   "metadata": {},
   "source": [
    "# Assignment 3 - Word Embedding"
   ]
  },
  {
   "cell_type": "code",
   "execution_count": 114,
   "id": "e23f8870",
   "metadata": {},
   "outputs": [],
   "source": [
    "# import all the needed libraries\n",
    "import pandas as pd\n",
    "import gensim        # Gensim library for word embedding \n",
    "from gensim.models import KeyedVectors  # access to pre-trained word embeddings\n",
    "from gensim.utils import simple_preprocess # preprocess the text data\n",
    "\n",
    "import re\n",
    "import nltk          # Natural Language Toolkit for text processing\n",
    "from nltk.corpus import stopwords         # for stopwords\n",
    "from nltk.stem import WordNetLemmatizer   # for lemmatization"
   ]
  },
  {
   "cell_type": "code",
   "execution_count": 2,
   "id": "3c734c98",
   "metadata": {},
   "outputs": [],
   "source": [
    "# read the CSV file\n",
    "\n",
    "df = pd.read_csv(\"master_covid19_2020_03_15-31 - master_covid19_2020_03_15-31.csv\")"
   ]
  },
  {
   "cell_type": "code",
   "execution_count": 3,
   "id": "dbaf1250",
   "metadata": {
    "scrolled": true
   },
   "outputs": [
    {
     "name": "stdout",
     "output_type": "stream",
     "text": [
      "0        RT @realDonaldTrump: 30 DAYS TO SLOW THE SPREA...\n",
      "2        RT @spectatorindex: JUST IN: 13 year old who t...\n",
      "4        RT @StephMcNasty: The Coronavirus is really sh...\n",
      "6        RT @CharlieDaniels: Hazel and myself send our ...\n",
      "7        RT @PrakritiGaba: Last night in the ICU of a #...\n",
      "                               ...                        \n",
      "24339    RT @Penalosa_G: \"If the Swedes are doing it, i...\n",
      "24343    RT @SenWarren: The House changes to the corona...\n",
      "24347    RT @sapnamadan: His wife is being quarantined ...\n",
      "24348    RT @jsolomonReports: Chris Cuomo, CNN anchor a...\n",
      "24349    RT @NorbertElekes: NEW: India reports 272 new ...\n",
      "Name: text, Length: 14849, dtype: object\n"
     ]
    }
   ],
   "source": [
    "# select only the English tweets\n",
    "\n",
    "texts = df.loc[df['lang'] == \"en\"]['text']\n",
    "print(texts)"
   ]
  },
  {
   "cell_type": "markdown",
   "id": "326f9a62",
   "metadata": {},
   "source": [
    "#### Pre-processing"
   ]
  },
  {
   "cell_type": "code",
   "execution_count": 118,
   "id": "a21410c2",
   "metadata": {},
   "outputs": [],
   "source": [
    "# pre-processing code retrived from: https://gist.github.com/MrEliptik/b3f16179aa2f530781ef8ca9a16499af\n",
    "\n",
    "def preprocess_text(text):\n",
    "    \n",
    "    # replace URLs with placeholder URL\n",
    "    text = re.sub(r'http\\S+', 'URL', text) \n",
    "\n",
    "    # replace user mentions with placeholder USER\n",
    "    text = re.sub(r'@\\w+', '@USER', text)\n",
    "   \n",
    "    # Tokenize text\n",
    "    tokens = text.split()\n",
    "    \n",
    "    # Lemmatize tokens\n",
    "    lemmatizer = WordNetLemmatizer()\n",
    "    tokens = [lemmatizer.lemmatize(token) for token in tokens]\n",
    "    \n",
    "    # Rejoin tokens into a string\n",
    "    text = ' '.join(tokens)\n",
    "    \n",
    "    return text"
   ]
  },
  {
   "cell_type": "code",
   "execution_count": 119,
   "id": "7c022226",
   "metadata": {},
   "outputs": [],
   "source": [
    "prep_texts = texts.apply(preprocess_text)"
   ]
  },
  {
   "cell_type": "code",
   "execution_count": 120,
   "id": "3bc92e79",
   "metadata": {},
   "outputs": [
    {
     "data": {
      "text/plain": [
       "0        RT @USER: 30 DAYS TO SLOW THE SPREAD #COVIDー19...\n",
       "2        RT @USER: JUST IN: 13 year old who tested posi...\n",
       "4        RT @USER: The Coronavirus is really showing wh...\n",
       "6        RT @USER: Hazel and myself send our love and p...\n",
       "7        RT @USER: Last night in the ICU of a #NYC hosp...\n",
       "                               ...                        \n",
       "24339    RT @USER: \"If the Swedes are doing it, it must...\n",
       "24343    RT @USER: The House change to the coronavirus ...\n",
       "24347    RT @USER: His wife is being quarantined for 14...\n",
       "24348    RT @USER: Chris Cuomo, CNN anchor and brother ...\n",
       "24349    RT @USER: NEW: India report 272 new case of co...\n",
       "Name: text, Length: 14849, dtype: object"
      ]
     },
     "execution_count": 120,
     "metadata": {},
     "output_type": "execute_result"
    }
   ],
   "source": [
    "prep_texts"
   ]
  },
  {
   "cell_type": "code",
   "execution_count": 121,
   "id": "b6306a53",
   "metadata": {},
   "outputs": [],
   "source": [
    "# remove stopwords\n",
    "def remove_stopwords(texts):\n",
    "    return [[word for word in simple_preprocess(str(doc)) if word not in stop_words] for doc in texts]\n",
    "\n",
    "stop_words = stopwords.words('english')\n",
    "clean_texts = remove_stopwords(prep_texts)"
   ]
  },
  {
   "cell_type": "code",
   "execution_count": 122,
   "id": "17f87d0a",
   "metadata": {},
   "outputs": [
    {
     "name": "stdout",
     "output_type": "stream",
     "text": [
      "['rt', 'user', 'year', 'old', 'tested', 'positive', 'coronavirus', 'uk', 'ha', 'died']\n"
     ]
    }
   ],
   "source": [
    "print(clean_texts[1])"
   ]
  },
  {
   "cell_type": "code",
   "execution_count": 117,
   "id": "46a11f84",
   "metadata": {},
   "outputs": [],
   "source": [
    "# convert clean_texts list into a pandas series\n",
    "clean_texts = pd.Series(clean_texts)\n",
    "\n",
    "# split into samples of different sizes\n",
    "sample1 = clean_texts.sample(n=1000, random_state=42)\n",
    "sample2 = clean_texts.sample(n=1500, random_state=42)\n",
    "sample3 = clean_texts.sample(n=2000, random_state=42)\n",
    "sample4 = clean_texts.sample(n=2500, random_state=42)\n",
    "\n",
    "# save samples to separate files\n",
    "sample1.to_csv('sample1.csv', index=False)\n",
    "sample2.to_csv('sample2.csv', index=False)\n",
    "sample3.to_csv('sample3.csv', index=False)\n",
    "sample4.to_csv('sample4.csv', index=False)"
   ]
  },
  {
   "cell_type": "markdown",
   "id": "c3b50030",
   "metadata": {},
   "source": [
    "#### Sample 1 (1000)"
   ]
  },
  {
   "cell_type": "code",
   "execution_count": 116,
   "id": "e9b0145e",
   "metadata": {},
   "outputs": [],
   "source": [
    "# Train a Word2Vec model\n",
    "w2v_model_sample1 = gensim.models.Word2Vec(\n",
    "        sample1,\n",
    "        vector_size = 50,\n",
    "        window = 5,\n",
    "        min_count = 1,\n",
    "        workers = 1,\n",
    "        sg = 1,\n",
    "        epochs=10)"
   ]
  },
  {
   "cell_type": "code",
   "execution_count": 98,
   "id": "50154964",
   "metadata": {
    "scrolled": true
   },
   "outputs": [
    {
     "name": "stdout",
     "output_type": "stream",
     "text": [
      "Word2Vec<vocab=3757, vector_size=50, alpha=0.025>\n"
     ]
    }
   ],
   "source": [
    "print(w2v_model_sample1)"
   ]
  },
  {
   "cell_type": "code",
   "execution_count": 99,
   "id": "3e09312d",
   "metadata": {},
   "outputs": [
    {
     "name": "stdout",
     "output_type": "stream",
     "text": [
      "['user', 'rt', 'coronavirus', 'covid', 'url', 'trump', 'new', 'case', 'say', 'one', 'people', 'pandemic', 'china', 'positive', 'amp', 'death', 'virus', 'test', 'us', 'time']\n"
     ]
    }
   ],
   "source": [
    "# save the model\n",
    "w2v_model_sample1.save('sample1.model')\n",
    "\n",
    "# load the model\n",
    "s1_model = KeyedVectors.load(\"sample1.model\")\n",
    "               \n",
    "# Printing the first 20 words that in our vocabulary\n",
    "print(s1_model.wv.index_to_key[0:20])"
   ]
  },
  {
   "cell_type": "code",
   "execution_count": 102,
   "id": "6205cf86",
   "metadata": {
    "scrolled": true
   },
   "outputs": [
    {
     "name": "stdout",
     "output_type": "stream",
     "text": [
      "covid:[('mid', 0.9612714648246765), ('ecoin', 0.9607360363006592), ('register', 0.9586893916130066), ('slated', 0.9585748314857483), ('world', 0.95509272813797), ('please', 0.9550577402114868), ('way', 0.9533871412277222), ('corona', 0.9519773125648499), ('fools', 0.9513662457466125), ('results', 0.9513639211654663)]\n",
      "coronavirus:[('url', 0.9954591393470764), ('cases', 0.9949049949645996), ('user', 0.994881808757782), ('england', 0.9945002198219299), ('th', 0.9941933155059814), ('said', 0.9939618110656738), ('country', 0.993722140789032), ('update', 0.9935998916625977), ('year', 0.993543803691864), ('outbreak', 0.9934816360473633)]\n",
      "virus:[('wuhan', 0.9948258399963379), ('called', 0.992692232131958), ('name', 0.9924917221069336), ('hubei', 0.9924367666244507), ('chinese', 0.9923813343048096), ('market', 0.9923664927482605), ('bed', 0.9922053217887878), ('make', 0.9921841025352478), ('hoax', 0.9921717643737793), ('focus', 0.992072582244873)]\n"
     ]
    }
   ],
   "source": [
    "# Get similar words for covid\n",
    "print(f'covid:{w2v_model_sample1.wv.most_similar(\"covid\", topn=10)}') \n",
    "\n",
    "# Get similar words for coronavirus\n",
    "print(f'coronavirus:{w2v_model_sample1.wv.most_similar(\"coronavirus\", topn=10)}')\n",
    "\n",
    "# Get similar words for virus\n",
    "print(f'virus:{w2v_model_sample1.wv.most_similar(\"virus\", topn=10)}')"
   ]
  },
  {
   "cell_type": "markdown",
   "id": "e56e0664",
   "metadata": {},
   "source": [
    "#### Sample 2 (1500)"
   ]
  },
  {
   "cell_type": "code",
   "execution_count": 103,
   "id": "93a16b8f",
   "metadata": {},
   "outputs": [
    {
     "name": "stdout",
     "output_type": "stream",
     "text": [
      "Word2Vec<vocab=4744, vector_size=50, alpha=0.025>\n"
     ]
    }
   ],
   "source": [
    "# Train a Word2Vec model\n",
    "w2v_model_sample2 = gensim.models.Word2Vec(\n",
    "        sample2,\n",
    "        vector_size = 50,\n",
    "        window = 5,\n",
    "        min_count = 1,\n",
    "        workers = 1,\n",
    "        sg = 1,\n",
    "        epochs=10)\n",
    "\n",
    "print(w2v_model_sample2)"
   ]
  },
  {
   "cell_type": "code",
   "execution_count": 104,
   "id": "b517161d",
   "metadata": {},
   "outputs": [
    {
     "name": "stdout",
     "output_type": "stream",
     "text": [
      "['user', 'rt', 'coronavirus', 'covid', 'url', 'trump', 'new', 'case', 'pandemic', 'people', 'positive', 'say', 'amp', 'china', 'death', 'one', 'us', 'time', 'president', 'virus']\n"
     ]
    }
   ],
   "source": [
    "# save the model\n",
    "w2v_model_sample2.save('sample2.model')\n",
    "\n",
    "# load the model\n",
    "s2_model = KeyedVectors.load(\"sample2.model\")\n",
    "               \n",
    "# Printing the first 20 words that in our vocabulary\n",
    "print(s2_model.wv.index_to_key[0:20])"
   ]
  },
  {
   "cell_type": "code",
   "execution_count": 105,
   "id": "4c2405d1",
   "metadata": {},
   "outputs": [
    {
     "name": "stdout",
     "output_type": "stream",
     "text": [
      "covid:[('mid', 0.94792640209198), ('fools', 0.9372761845588684), ('fighting', 0.9371911883354187), ('pandemic', 0.9367079138755798), ('may', 0.9351383447647095), ('via', 0.9344696402549744), ('third', 0.9338407516479492), ('lt', 0.9329092502593994), ('ecoin', 0.9322813749313354), ('two', 0.9316513538360596)]\n",
      "coronavirus:[('breaking', 0.9843987226486206), ('first', 0.98375403881073), ('update', 0.9818281531333923), ('via', 0.980609118938446), ('pm', 0.9777363538742065), ('url', 0.9776174426078796), ('today', 0.9761503338813782), ('reported', 0.9742425084114075), ('uk', 0.9734832644462585), ('people', 0.9727181792259216)]\n",
      "virus:[('wuhan', 0.9791972041130066), ('chinese', 0.9755679965019226), ('called', 0.9734005331993103), ('epicenter', 0.9728990197181702), ('corona', 0.9722326397895813), ('hubei', 0.9714521765708923), ('racist', 0.9700241684913635), ('make', 0.96927809715271), ('funky', 0.9692081212997437), ('came', 0.9688615202903748)]\n"
     ]
    }
   ],
   "source": [
    "# Get similar words for covid\n",
    "print(f'covid:{w2v_model_sample2.wv.most_similar(\"covid\", topn=10)}') \n",
    "\n",
    "# Get similar words for coronavirus\n",
    "print(f'coronavirus:{w2v_model_sample2.wv.most_similar(\"coronavirus\", topn=10)}')\n",
    "\n",
    "# Get similar words for virus\n",
    "print(f'virus:{w2v_model_sample2.wv.most_similar(\"virus\", topn=10)}')"
   ]
  },
  {
   "cell_type": "markdown",
   "id": "35351196",
   "metadata": {},
   "source": [
    "#### Sample 3 (2000) "
   ]
  },
  {
   "cell_type": "code",
   "execution_count": 106,
   "id": "5b1a1007",
   "metadata": {},
   "outputs": [
    {
     "name": "stdout",
     "output_type": "stream",
     "text": [
      "Word2Vec<vocab=5704, vector_size=50, alpha=0.025>\n"
     ]
    }
   ],
   "source": [
    "# Train a Word2Vec model\n",
    "w2v_model_sample3 = gensim.models.Word2Vec(\n",
    "        sample3,\n",
    "        vector_size = 50,\n",
    "        window = 5,\n",
    "        min_count = 1,\n",
    "        workers = 1,\n",
    "        sg = 1,\n",
    "        epochs=10)\n",
    "\n",
    "print(w2v_model_sample3)"
   ]
  },
  {
   "cell_type": "code",
   "execution_count": 107,
   "id": "a52085df",
   "metadata": {},
   "outputs": [
    {
     "name": "stdout",
     "output_type": "stream",
     "text": [
      "['user', 'rt', 'coronavirus', 'covid', 'url', 'trump', 'new', 'case', 'pandemic', 'people', 'positive', 'amp', 'say', 'china', 'death', 'test', 'one', 'us', 'president', 'time']\n"
     ]
    }
   ],
   "source": [
    "# save the model\n",
    "w2v_model_sample3.save('sample3.model')\n",
    "\n",
    "# load the model\n",
    "s3_model = KeyedVectors.load(\"sample3.model\")\n",
    "               \n",
    "# Printing the first 20 words that in our vocabulary\n",
    "print(s3_model.wv.index_to_key[0:20])"
   ]
  },
  {
   "cell_type": "code",
   "execution_count": 108,
   "id": "4158896a",
   "metadata": {},
   "outputs": [
    {
     "name": "stdout",
     "output_type": "stream",
     "text": [
      "covid:[('two', 0.9347029328346252), ('due', 0.9273419976234436), ('day', 0.9199617505073547), ('patient', 0.9188029766082764), ('health', 0.9145526885986328), ('stupidity', 0.9122781157493591), ('mid', 0.9114583134651184), ('swear', 0.9104412198066711), ('confirms', 0.9098772406578064), ('per', 0.9096565246582031)]\n",
      "coronavirus:[('live', 0.9668242931365967), ('reporting', 0.9663543105125427), ('died', 0.9642297029495239), ('et', 0.9632266163825989), ('united', 0.9630823731422424), ('rate', 0.9630070924758911), ('fauci', 0.9619635939598083), ('end', 0.9617858529090881), ('watch', 0.9600171446800232), ('states', 0.9580413103103638)]\n",
      "virus:[('wuhan', 0.9578901529312134), ('chinese', 0.9554226398468018), ('called', 0.9388936161994934), ('china', 0.9087188243865967), ('bro', 0.9020308256149292), ('president', 0.8953123688697815), ('impeachment', 0.8927450180053711), ('really', 0.8894342184066772), ('make', 0.8889905214309692), ('think', 0.8863164782524109)]\n"
     ]
    }
   ],
   "source": [
    "# Get similar words for covid\n",
    "print(f'covid:{w2v_model_sample3.wv.most_similar(\"covid\", topn=10)}') \n",
    "\n",
    "# Get similar words for coronavirus\n",
    "print(f'coronavirus:{w2v_model_sample3.wv.most_similar(\"coronavirus\", topn=10)}')\n",
    "\n",
    "# Get similar words for virus\n",
    "print(f'virus:{w2v_model_sample3.wv.most_similar(\"virus\", topn=10)}')"
   ]
  },
  {
   "cell_type": "markdown",
   "id": "b10d7cf9",
   "metadata": {},
   "source": [
    "#### Sample 4 (2500) "
   ]
  },
  {
   "cell_type": "code",
   "execution_count": 109,
   "id": "525cfe93",
   "metadata": {},
   "outputs": [
    {
     "name": "stdout",
     "output_type": "stream",
     "text": [
      "Word2Vec<vocab=6470, vector_size=50, alpha=0.025>\n"
     ]
    }
   ],
   "source": [
    "# Train a Word2Vec model\n",
    "w2v_model_sample4 = gensim.models.Word2Vec(\n",
    "        sample4,\n",
    "        vector_size = 50,\n",
    "        window = 5,\n",
    "        min_count = 1,\n",
    "        workers = 1,\n",
    "        sg = 1,\n",
    "        epochs=10)\n",
    "\n",
    "print(w2v_model_sample4)"
   ]
  },
  {
   "cell_type": "code",
   "execution_count": 110,
   "id": "8a6f97ae",
   "metadata": {},
   "outputs": [
    {
     "name": "stdout",
     "output_type": "stream",
     "text": [
      "['user', 'rt', 'coronavirus', 'url', 'covid', 'trump', 'case', 'new', 'pandemic', 'people', 'positive', 'amp', 'china', 'say', 'death', 'us', 'test', 'one', 'time', 'president']\n"
     ]
    }
   ],
   "source": [
    "# save the model\n",
    "w2v_model_sample4.save('sample3.model')\n",
    "\n",
    "# load the model\n",
    "s4_model = KeyedVectors.load(\"sample3.model\")\n",
    "               \n",
    "# Printing the first 20 words that in our vocabulary\n",
    "print(s4_model.wv.index_to_key[0:20])"
   ]
  },
  {
   "cell_type": "code",
   "execution_count": 111,
   "id": "95f9c964",
   "metadata": {},
   "outputs": [
    {
     "name": "stdout",
     "output_type": "stream",
     "text": [
      "covid:[('treatment', 0.8980750441551208), ('url', 0.8853574991226196), ('due', 0.8849505186080933), ('amid', 0.8792859315872192), ('fighting', 0.879266619682312), ('story', 0.8787024617195129), ('mid', 0.878048837184906), ('two', 0.8771635890007019), ('lockdown', 0.8769465088844299), ('stupidity', 0.8740412592887878)]\n",
      "coronavirus:[('tuesday', 0.9345659017562866), ('latest', 0.9324128031730652), ('rise', 0.9303003549575806), ('et', 0.9301825761795044), ('past', 0.9286713600158691), ('celebrity', 0.9285599589347839), ('updates', 0.9269441962242126), ('germany', 0.9258491396903992), ('announced', 0.9256832003593445), ('national', 0.9249150156974792)]\n",
      "virus:[('wuhan', 0.9257809519767761), ('chinese', 0.9158656001091003), ('china', 0.8530799150466919), ('called', 0.8423262238502502), ('bro', 0.8248056173324585), ('corona', 0.8187914490699768), ('travelled', 0.8134801387786865), ('blame', 0.8023353219032288), ('chinesevirus', 0.7956954836845398), ('cover', 0.790327787399292)]\n"
     ]
    }
   ],
   "source": [
    "# Get similar words for covid\n",
    "print(f'covid:{w2v_model_sample4.wv.most_similar(\"covid\", topn=10)}') \n",
    "\n",
    "# Get similar words for coronavirus\n",
    "print(f'coronavirus:{w2v_model_sample4.wv.most_similar(\"coronavirus\", topn=10)}')\n",
    "\n",
    "# Get similar words for virus\n",
    "print(f'virus:{w2v_model_sample4.wv.most_similar(\"virus\", topn=10)}')"
   ]
  },
  {
   "cell_type": "markdown",
   "id": "ad2a0a9a",
   "metadata": {},
   "source": [
    "#### Use existing model"
   ]
  },
  {
   "cell_type": "code",
   "execution_count": 129,
   "id": "ca794aa6",
   "metadata": {},
   "outputs": [],
   "source": [
    "import gensim.downloader as api  # importing the gensim downloader\n",
    "\n",
    "# load the GloVe Twitter pre-trained model of 50 dimensions\n",
    "glove_vectors = api.load(\"glove-twitter-50\") "
   ]
  },
  {
   "cell_type": "code",
   "execution_count": 124,
   "id": "1f4fc075",
   "metadata": {},
   "outputs": [
    {
     "ename": "KeyError",
     "evalue": "\"Key 'covid' not present in vocabulary\"",
     "output_type": "error",
     "traceback": [
      "\u001b[0;31m---------------------------------------------------------------------------\u001b[0m",
      "\u001b[0;31mKeyError\u001b[0m                                  Traceback (most recent call last)",
      "Input \u001b[0;32mIn [124]\u001b[0m, in \u001b[0;36m<cell line: 2>\u001b[0;34m()\u001b[0m\n\u001b[1;32m      1\u001b[0m word \u001b[38;5;241m=\u001b[39m \u001b[38;5;124m'\u001b[39m\u001b[38;5;124mcovid\u001b[39m\u001b[38;5;124m'\u001b[39m\n\u001b[0;32m----> 2\u001b[0m top10_sim \u001b[38;5;241m=\u001b[39m \u001b[43mglove_vectors\u001b[49m\u001b[38;5;241;43m.\u001b[39;49m\u001b[43mmost_similar\u001b[49m\u001b[43m(\u001b[49m\u001b[43mpositive\u001b[49m\u001b[43m \u001b[49m\u001b[38;5;241;43m=\u001b[39;49m\u001b[43m \u001b[49m\u001b[43mword\u001b[49m\u001b[43m,\u001b[49m\u001b[43m \u001b[49m\u001b[43mtopn\u001b[49m\u001b[43m \u001b[49m\u001b[38;5;241;43m=\u001b[39;49m\u001b[43m \u001b[49m\u001b[38;5;241;43m10\u001b[39;49m\u001b[43m)\u001b[49m\n\u001b[1;32m      3\u001b[0m \u001b[38;5;28mprint\u001b[39m(top10_sim)\n",
      "File \u001b[0;32m~/opt/anaconda3/lib/python3.9/site-packages/gensim/models/keyedvectors.py:841\u001b[0m, in \u001b[0;36mKeyedVectors.most_similar\u001b[0;34m(self, positive, negative, topn, clip_start, clip_end, restrict_vocab, indexer)\u001b[0m\n\u001b[1;32m    838\u001b[0m         weight[idx] \u001b[38;5;241m=\u001b[39m item[\u001b[38;5;241m1\u001b[39m]\n\u001b[1;32m    840\u001b[0m \u001b[38;5;66;03m# compute the weighted average of all keys\u001b[39;00m\n\u001b[0;32m--> 841\u001b[0m mean \u001b[38;5;241m=\u001b[39m \u001b[38;5;28;43mself\u001b[39;49m\u001b[38;5;241;43m.\u001b[39;49m\u001b[43mget_mean_vector\u001b[49m\u001b[43m(\u001b[49m\u001b[43mkeys\u001b[49m\u001b[43m,\u001b[49m\u001b[43m \u001b[49m\u001b[43mweight\u001b[49m\u001b[43m,\u001b[49m\u001b[43m \u001b[49m\u001b[43mpre_normalize\u001b[49m\u001b[38;5;241;43m=\u001b[39;49m\u001b[38;5;28;43;01mTrue\u001b[39;49;00m\u001b[43m,\u001b[49m\u001b[43m \u001b[49m\u001b[43mpost_normalize\u001b[49m\u001b[38;5;241;43m=\u001b[39;49m\u001b[38;5;28;43;01mTrue\u001b[39;49;00m\u001b[43m,\u001b[49m\u001b[43m \u001b[49m\u001b[43mignore_missing\u001b[49m\u001b[38;5;241;43m=\u001b[39;49m\u001b[38;5;28;43;01mFalse\u001b[39;49;00m\u001b[43m)\u001b[49m\n\u001b[1;32m    842\u001b[0m all_keys \u001b[38;5;241m=\u001b[39m [\n\u001b[1;32m    843\u001b[0m     \u001b[38;5;28mself\u001b[39m\u001b[38;5;241m.\u001b[39mget_index(key) \u001b[38;5;28;01mfor\u001b[39;00m key \u001b[38;5;129;01min\u001b[39;00m keys \u001b[38;5;28;01mif\u001b[39;00m \u001b[38;5;28misinstance\u001b[39m(key, _KEY_TYPES) \u001b[38;5;129;01mand\u001b[39;00m \u001b[38;5;28mself\u001b[39m\u001b[38;5;241m.\u001b[39mhas_index_for(key)\n\u001b[1;32m    844\u001b[0m ]\n\u001b[1;32m    846\u001b[0m \u001b[38;5;28;01mif\u001b[39;00m indexer \u001b[38;5;129;01mis\u001b[39;00m \u001b[38;5;129;01mnot\u001b[39;00m \u001b[38;5;28;01mNone\u001b[39;00m \u001b[38;5;129;01mand\u001b[39;00m \u001b[38;5;28misinstance\u001b[39m(topn, \u001b[38;5;28mint\u001b[39m):\n",
      "File \u001b[0;32m~/opt/anaconda3/lib/python3.9/site-packages/gensim/models/keyedvectors.py:518\u001b[0m, in \u001b[0;36mKeyedVectors.get_mean_vector\u001b[0;34m(self, keys, weights, pre_normalize, post_normalize, ignore_missing)\u001b[0m\n\u001b[1;32m    516\u001b[0m         total_weight \u001b[38;5;241m+\u001b[39m\u001b[38;5;241m=\u001b[39m \u001b[38;5;28mabs\u001b[39m(weights[idx])\n\u001b[1;32m    517\u001b[0m     \u001b[38;5;28;01melif\u001b[39;00m \u001b[38;5;129;01mnot\u001b[39;00m ignore_missing:\n\u001b[0;32m--> 518\u001b[0m         \u001b[38;5;28;01mraise\u001b[39;00m \u001b[38;5;167;01mKeyError\u001b[39;00m(\u001b[38;5;124mf\u001b[39m\u001b[38;5;124m\"\u001b[39m\u001b[38;5;124mKey \u001b[39m\u001b[38;5;124m'\u001b[39m\u001b[38;5;132;01m{\u001b[39;00mkey\u001b[38;5;132;01m}\u001b[39;00m\u001b[38;5;124m'\u001b[39m\u001b[38;5;124m not present in vocabulary\u001b[39m\u001b[38;5;124m\"\u001b[39m)\n\u001b[1;32m    520\u001b[0m \u001b[38;5;28;01mif\u001b[39;00m total_weight \u001b[38;5;241m>\u001b[39m \u001b[38;5;241m0\u001b[39m:\n\u001b[1;32m    521\u001b[0m     mean \u001b[38;5;241m=\u001b[39m mean \u001b[38;5;241m/\u001b[39m total_weight\n",
      "\u001b[0;31mKeyError\u001b[0m: \"Key 'covid' not present in vocabulary\""
     ]
    }
   ],
   "source": [
    "word = 'covid'\n",
    "top10_sim = glove_vectors.most_similar(positive = word, topn = 10)\n",
    "print(top10_sim)"
   ]
  },
  {
   "cell_type": "code",
   "execution_count": 134,
   "id": "e0113176",
   "metadata": {
    "scrolled": true
   },
   "outputs": [
    {
     "name": "stdout",
     "output_type": "stream",
     "text": [
      "[('wikileaks', 0.6786817908287048), ('abduction', 0.6699736714363098), ('plotter', 0.6616529822349548), ('megaupload', 0.6569192409515381), ('amazigh', 0.6552634835243225), ('norovirus', 0.6525553464889526), ('rotavirus', 0.6516395211219788), ('sandero', 0.6494700312614441), ('yugoslavia', 0.6478256583213806), ('mikhail', 0.6476300358772278)]\n"
     ]
    }
   ],
   "source": [
    "word = 'coronavirus'\n",
    "top10_sim = glove_vectors.most_similar(positive = word, topn = 10)\n",
    "print(top10_sim)"
   ]
  },
  {
   "cell_type": "code",
   "execution_count": 135,
   "id": "1f52c7af",
   "metadata": {},
   "outputs": [
    {
     "name": "stdout",
     "output_type": "stream",
     "text": [
      "[('malware', 0.7857435941696167), ('hacker', 0.740230917930603), ('hepatitis', 0.7397270202636719), ('hiv', 0.7216421365737915), ('tumor', 0.7198520302772522), ('tsunami', 0.7155616283416748), ('anti', 0.710803210735321), ('hack', 0.7009544372558594), ('mosquito', 0.6940008997917175), ('hackers', 0.6936617493629456)]\n"
     ]
    }
   ],
   "source": [
    "word = 'virus'\n",
    "top10_sim = glove_vectors.most_similar(positive = word, topn = 10)\n",
    "print(top10_sim)"
   ]
  }
 ],
 "metadata": {
  "kernelspec": {
   "display_name": "Python 3 (ipykernel)",
   "language": "python",
   "name": "python3"
  },
  "language_info": {
   "codemirror_mode": {
    "name": "ipython",
    "version": 3
   },
   "file_extension": ".py",
   "mimetype": "text/x-python",
   "name": "python",
   "nbconvert_exporter": "python",
   "pygments_lexer": "ipython3",
   "version": "3.9.12"
  }
 },
 "nbformat": 4,
 "nbformat_minor": 5
}
